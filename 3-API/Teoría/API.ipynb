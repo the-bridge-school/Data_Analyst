{
 "cells": [
  {
   "attachments": {},
   "cell_type": "markdown",
   "metadata": {},
   "source": [
    "# ***API (Application Programming Interface)***"
   ]
  },
  {
   "attachments": {},
   "cell_type": "markdown",
   "metadata": {},
   "source": [
    "Vivimos en un mundo donde todos están interconectados entre ellos, donde en pocos segundos conseguimos mandar un mensaje a una persona que está incluso a miles de kilómetros y donde, cómodamente desde la cama con nuestro smartphone, podríamos incluso programar encender la máquina del café; pero ¿cómo ocurre esta conexión? \n",
    "\n",
    "¿Cómo permiten esto los diferentes dispositivos (tablet, pc, smartphone) y las aplicaciones? \n",
    "\n",
    "Concretamente, ¿cómo conseguimos hacer todas estas operaciones?\n",
    "\n",
    "El héroe silencioso y poco citado que te permite hacer todo esto son las Application Programming Interface o mejor conocidas como API. "
   ]
  },
  {
   "attachments": {},
   "cell_type": "markdown",
   "metadata": {},
   "source": [
    "![API](data:image/jpeg;base64,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)"
   ]
  },
  {
   "attachments": {},
   "cell_type": "markdown",
   "metadata": {},
   "source": [
    "Las APIs (Application Programming Interfaces) son un conjunto de reglas y protocolos que permiten la comunicación entre diferentes aplicaciones y sistemas. Las APIs facilitan la obtención y el intercambio de información entre aplicaciones sin necesidad de conocer los detalles de implementación de cada una de ellas."
   ]
  },
  {
   "attachments": {},
   "cell_type": "markdown",
   "metadata": {},
   "source": [
    "![API](https://blog.finerioconnect.com/wp-content/uploads/2020/04/como-funciona-una-api.jpg)"
   ]
  },
  {
   "attachments": {},
   "cell_type": "markdown",
   "metadata": {},
   "source": [
    "![API](https://media.geeksforgeeks.org/wp-content/uploads/20230216170349/What-is-an-API.png)"
   ]
  },
  {
   "attachments": {},
   "cell_type": "markdown",
   "metadata": {},
   "source": [
    "## API y las API REST"
   ]
  },
  {
   "attachments": {},
   "cell_type": "markdown",
   "metadata": {},
   "source": [
    "Por lo general, la API sigue el formato de aplicación a aplicación, mientras que REST (Representational State Transfer que podríamos traducir como transferencia del estado) sigue una estructura diferente: Cliente-Servidor. El cliente y el servidor están evolucionando de forma independiente, proporcionando más flexibilidad en el trabajo."
   ]
  },
  {
   "attachments": {},
   "cell_type": "markdown",
   "metadata": {},
   "source": [
    "API de aplicación a aplicación:\n",
    "Cuando nos referimos a una API en general, nos referimos a un conjunto de reglas y protocolos que permiten la comunicación entre diferentes aplicaciones. En este caso, la comunicación es de aplicación a aplicación, lo que significa que una aplicación solicita información o servicios a otra aplicación.\n",
    "\n",
    "Un ejemplo de API de aplicación a aplicación es la API de Twitter. Esta API permite a los desarrolladores interactuar con la plataforma de Twitter para realizar acciones como publicar tweets, acceder a tweets publicados, buscar usuarios, entre otros. En este caso, una aplicación (por ejemplo, una aplicación de análisis de redes sociales) se comunica directamente con la aplicación de Twitter a través de su API.\n",
    "\n",
    "\n",
    "\n",
    "Arquitectura REST (Cliente-Servidor):\n",
    "REST (Representational State Transfer) es un estilo de arquitectura que se utiliza comúnmente en la implementación de servicios web. En una arquitectura REST, se sigue un patrón de Cliente-Servidor. El cliente (generalmente una aplicación web, móvil o de escritorio) realiza solicitudes a un servidor que proporciona recursos y servicios. El cliente y el servidor evolucionan de forma independiente, lo que permite mayor flexibilidad en el desarrollo y mantenimiento de cada uno de ellos.\n",
    "\n",
    "Un ejemplo de arquitectura REST es la API de OpenWeatherMap. OpenWeatherMap proporciona datos meteorológicos a través de una API RESTful. Un cliente (por ejemplo, una aplicación móvil del tiempo) realiza solicitudes a la API de OpenWeatherMap utilizando el protocolo HTTP, y el servidor de OpenWeatherMap responde con los datos meteorológicos solicitados."
   ]
  },
  {
   "attachments": {},
   "cell_type": "markdown",
   "metadata": {},
   "source": [
    "_________"
   ]
  },
  {
   "attachments": {},
   "cell_type": "markdown",
   "metadata": {},
   "source": [
    "Para interactuar con una API, generalmente necesitarás realizar solicitudes HTTP. Python tiene una biblioteca popular llamada requests que facilita la realización de solicitudes HTTP. Primero, asegúrate de instalar la biblioteca requests ejecutando:"
   ]
  },
  {
   "cell_type": "code",
   "execution_count": null,
   "metadata": {},
   "outputs": [],
   "source": [
    "# !pip install requests "
   ]
  },
  {
   "attachments": {},
   "cell_type": "markdown",
   "metadata": {},
   "source": [
    "Para realizar una solicitud HTTP, puedes utilizar los métodos proporcionados por requests, como ``get``, ``post``, ``put`` y ``delete``. Por ejemplo, si deseas obtener datos de una API mediante una solicitud ``GET``, puedes hacer lo siguiente:"
   ]
  },
  {
   "attachments": {},
   "cell_type": "markdown",
   "metadata": {},
   "source": [
    "``MÉTODO POST``\n",
    "\n",
    "Se usa comúnmente para comunicar al servidor la finalización de una operación específica, por ejemplo, para activar el desencadenador de otros scripts. Si es necesario, puede contener un paquete de información para pasar al servidor.\n",
    "\n",
    "A menudo se usa mucho en lugar del método PUT para actualizar datos.\n",
    "\n",
    "``MÉTODO GET``\n",
    "\n",
    "Es el método que el buscador aplica de default para cada una de nuestras peticiones, para entendernos, cuando navegamos en un sitio web o hacemos clic en un enlace estamos efectuando una GET hacia ese recurso.\n",
    "\n",
    "``MÉTODO PUT``\n",
    "\n",
    "Según los principios REST tendría que ser usado para crear o actualizar un dato. Por ejemplo si llamáramos PUT/blog/artículo-2 estamos comunicando al server querer crear un nuevo artículo, llamado artículo-2.\n",
    "\n",
    "``MÉTODO DELETE``\n",
    "\n",
    "Es el contrario del PUT, se invoca cuando desea eliminar un recurso del servidor."
   ]
  },
  {
   "cell_type": "code",
   "execution_count": null,
   "metadata": {},
   "outputs": [],
   "source": [
    "import requests\n",
    "\n",
    "url = 'https://api.example.com/data'\n",
    "response = requests.get(url)"
   ]
  },
  {
   "attachments": {},
   "cell_type": "markdown",
   "metadata": {},
   "source": [
    "La variable response contendrá la respuesta HTTP, incluyendo el código de estado y los datos devueltos por la API. Puedes verificar el código de estado con response.status_code y acceder a los datos de la respuesta con response.json() si la API devuelve datos en formato JSON."
   ]
  },
  {
   "attachments": {},
   "cell_type": "markdown",
   "metadata": {},
   "source": [
    "Una vez que hayas obtenido los datos de la API, es posible que desees manipularlos, analizarlos o almacenarlos en un formato estructurado. Pandas es una biblioteca popular de Python para el análisis y la manipulación de datos."
   ]
  },
  {
   "attachments": {},
   "cell_type": "markdown",
   "metadata": {},
   "source": [
    "Supongamos que la API devuelve datos en formato JSON con una estructura similar a esta:"
   ]
  },
  {
   "attachments": {},
   "cell_type": "markdown",
   "metadata": {},
   "source": [
    "```\n",
    "  {\"datos\": [\n",
    "    {\"id\": 1, \"nombre\": \"Juan\", \"edad\": 33},\n",
    "    {\"id\": 2, \"nombre\": \"Carla\", \"edad\": 23},\n",
    "    {\"id\": 3, \"nombre\": \"Manuel\", \"edad\": 57}\n",
    "  ]}\n",
    "```"
   ]
  },
  {
   "attachments": {},
   "cell_type": "markdown",
   "metadata": {},
   "source": [
    "Después de realizar la solicitud y obtener la respuesta en formato JSON, puedes convertir los datos en un DataFrame de Pandas:"
   ]
  },
  {
   "cell_type": "code",
   "execution_count": null,
   "metadata": {},
   "outputs": [],
   "source": [
    "import pandas as pd\n",
    "data = response.json()\n",
    "df = pd.DataFrame(data['data'])"
   ]
  },
  {
   "attachments": {},
   "cell_type": "markdown",
   "metadata": {},
   "source": [
    "--------------"
   ]
  },
  {
   "attachments": {},
   "cell_type": "markdown",
   "metadata": {},
   "source": [
    "## Ejemplo Practico:"
   ]
  },
  {
   "attachments": {},
   "cell_type": "markdown",
   "metadata": {},
   "source": [
    "### POKEAPI"
   ]
  },
  {
   "attachments": {},
   "cell_type": "markdown",
   "metadata": {},
   "source": [
    "Para este ejmeplo vamos a utilizar la API [POKEAPI](https://pokeapi.co/)"
   ]
  },
  {
   "attachments": {},
   "cell_type": "markdown",
   "metadata": {},
   "source": [
    "Lo primero que tenemos que hacer antes de `\"atacar\"` una API es leer la documentacion para saber que parametros utiliza y que informacion puedo obtener"
   ]
  },
  {
   "attachments": {},
   "cell_type": "markdown",
   "metadata": {},
   "source": [
    "Ya leido la documentacion podemos empezar a `\"atacar\"` la API para crear una DataFrame y poder hacer nuestro analisis de datos"
   ]
  },
  {
   "attachments": {},
   "cell_type": "markdown",
   "metadata": {},
   "source": [
    "Lo podemos dividir en 4 pasos:"
   ]
  },
  {
   "attachments": {},
   "cell_type": "markdown",
   "metadata": {},
   "source": [
    "Pado 1: Obtener nombres e ID de Pokémon y guardar en DataFrame"
   ]
  },
  {
   "cell_type": "code",
   "execution_count": null,
   "metadata": {},
   "outputs": [],
   "source": [
    "import requests\n",
    "import pandas as pd"
   ]
  },
  {
   "cell_type": "code",
   "execution_count": null,
   "metadata": {},
   "outputs": [],
   "source": [
    "url = \"https://pokeapi.co/api/v2/pokemon?limit=2000\"\n",
    "response = requests.get(url)\n",
    "data = response.json()\n",
    "pokemons = data[\"results\"]\n",
    "\n",
    "pokemon_df = pd.DataFrame(columns=[\"id\", \"name\"])\n",
    "\n",
    "for index, pokemon in enumerate(pokemons, start=1):\n",
    "    pokemon_df = pokemon_df.append({\"id\": index, \"name\": pokemon[\"name\"]}, ignore_index=True)\n",
    "\n",
    "pokemon_df.head()"
   ]
  },
  {
   "attachments": {},
   "cell_type": "markdown",
   "metadata": {},
   "source": [
    "Esta parte del código crea un DataFrame con los nombres e ID de los Pokémon."
   ]
  },
  {
   "attachments": {},
   "cell_type": "markdown",
   "metadata": {},
   "source": [
    "Paso 2: Extraer tipos y habilidades de cada Pokémon y agregarlos al DataFrame"
   ]
  },
  {
   "cell_type": "code",
   "execution_count": null,
   "metadata": {},
   "outputs": [],
   "source": [
    "def get_pokemon_details(pokemon_url):\n",
    "    response = requests.get(pokemon_url)\n",
    "    pokemon_data = response.json()\n",
    "    \n",
    "    types = [t[\"type\"][\"name\"] for t in pokemon_data[\"types\"]]\n",
    "    abilities = [a[\"ability\"][\"name\"] for a in pokemon_data[\"abilities\"]]\n",
    "    \n",
    "    return types, abilities\n",
    "\n",
    "pokemon_df[\"types\"] = None\n",
    "pokemon_df[\"abilities\"] = None\n",
    "\n",
    "for index, row in pokemon_df.iterrows():\n",
    "    pokemon_url = row[\"url\"]\n",
    "    types, abilities = get_pokemon_details(pokemon_url)\n",
    "    \n",
    "    pokemon_df.at[index, \"types\"] = \", \".join(types)\n",
    "    pokemon_df.at[index, \"abilities\"] = \", \".join(abilities)\n",
    "\n",
    "pokemon_df.head()"
   ]
  },
  {
   "attachments": {},
   "cell_type": "markdown",
   "metadata": {},
   "source": [
    "Esta parte del código agrega las columnas 'types' y 'abilities' al DataFrame existente y llena cada fila con la información correspondiente. "
   ]
  },
  {
   "attachments": {},
   "cell_type": "markdown",
   "metadata": {},
   "source": [
    "Paso 3: Extraer estadísticas base de cada Pokémon y agregarlas al DataFrame"
   ]
  },
  {
   "cell_type": "code",
   "execution_count": null,
   "metadata": {},
   "outputs": [],
   "source": [
    "def get_base_stats(pokemon_data):\n",
    "    base_stats = {}\n",
    "    \n",
    "    for stat in pokemon_data[\"stats\"]:\n",
    "        stat_name = stat[\"stat\"][\"name\"]\n",
    "        base_value = stat[\"base_stat\"]\n",
    "        base_stats[stat_name] = base_value\n",
    "    \n",
    "    return base_stats\n",
    "\n",
    "stat_columns = [\"hp\", \"attack\", \"defense\", \"special-attack\", \"special-defense\", \"speed\"]\n",
    "\n",
    "for column in stat_columns:\n",
    "    pokemon_df[column] = None\n",
    "\n",
    "for index, row in pokemon_df.iterrows():\n",
    "    pokemon_url = row[\"url\"]\n",
    "    response = requests.get(pokemon_url)\n",
    "    pokemon_data = response.json()\n",
    "    \n",
    "    base_stats = get_base_stats(pokemon_data)\n",
    "    \n",
    "    for stat, value in base_stats.items():\n",
    "        pokemon_df.at[index, stat] = value\n",
    "\n",
    "pokemon_df.head()"
   ]
  },
  {
   "attachments": {},
   "cell_type": "markdown",
   "metadata": {},
   "source": [
    "Esta parte del código agrega las columnas de estadísticas base al DataFrame existente y llena cada fila con la información correspondiente."
   ]
  },
  {
   "attachments": {},
   "cell_type": "markdown",
   "metadata": {},
   "source": [
    "Paso 4: Guardar el DataFrame en un archivo CSV y, opcionalmente, en una base de datos SQLite"
   ]
  },
  {
   "cell_type": "code",
   "execution_count": null,
   "metadata": {},
   "outputs": [],
   "source": [
    "# Guardar el DataFrame en un archivo CSV\n",
    "csv_output_file = \"pokemon_data.csv\"\n",
    "pokemon_df.to_csv(csv_output_file, index=False)\n",
    "print(f\"Archivo CSV guardado como: {csv_output_file}\")"
   ]
  },
  {
   "cell_type": "code",
   "execution_count": null,
   "metadata": {},
   "outputs": [],
   "source": [
    "import os\n",
    "import sqlite3\n",
    "\n",
    "# Opcional: Guardar el DataFrame en una base de datos SQLite\n",
    "sqlite_output_file = \"pokemon_data.db\"\n",
    "\n",
    "if not os.path.exists(sqlite_output_file):\n",
    "    conn = sqlite3.connect(sqlite_output_file)\n",
    "    cursor = conn.cursor()\n",
    "    \n",
    "    pokemon_df.to_sql(\"pokemon\", conn, if_exists=\"replace\", index=False)\n",
    "    conn.commit()\n",
    "    \n",
    "    print(f\"Base de datos SQLite guardada como: {sqlite_output_file}\")\n",
    "    \n",
    "    conn.close()"
   ]
  },
  {
   "attachments": {},
   "cell_type": "markdown",
   "metadata": {},
   "source": [
    "### EDA"
   ]
  },
  {
   "attachments": {},
   "cell_type": "markdown",
   "metadata": {},
   "source": [
    "Presentacion..."
   ]
  },
  {
   "attachments": {},
   "cell_type": "markdown",
   "metadata": {},
   "source": [
    "Datos personales..."
   ]
  },
  {
   "attachments": {},
   "cell_type": "markdown",
   "metadata": {},
   "source": [
    "Indice..."
   ]
  },
  {
   "attachments": {},
   "cell_type": "markdown",
   "metadata": {},
   "source": [
    "Introduccion...."
   ]
  },
  {
   "attachments": {},
   "cell_type": "markdown",
   "metadata": {},
   "source": [
    "##### **Librerias**"
   ]
  },
  {
   "cell_type": "code",
   "execution_count": null,
   "metadata": {},
   "outputs": [],
   "source": [
    "import numpy as np\n",
    "import pandas as pd\n",
    "from scipy import stats\n",
    "import seaborn as sns\n",
    "import matplotlib.pyplot as plt"
   ]
  },
  {
   "attachments": {},
   "cell_type": "markdown",
   "metadata": {},
   "source": [
    "##### **Cargar el DataFrame**"
   ]
  },
  {
   "cell_type": "code",
   "execution_count": null,
   "metadata": {},
   "outputs": [],
   "source": [
    "pokemon_df = pd.read_csv('pokemon_data.csv')"
   ]
  },
  {
   "attachments": {},
   "cell_type": "markdown",
   "metadata": {},
   "source": [
    "##### **Primer Analisis del DataFrame**"
   ]
  },
  {
   "cell_type": "code",
   "execution_count": null,
   "metadata": {},
   "outputs": [],
   "source": [
    "pokemon_df.head()"
   ]
  },
  {
   "cell_type": "code",
   "execution_count": null,
   "metadata": {},
   "outputs": [],
   "source": [
    "pokemon_df.shape"
   ]
  },
  {
   "cell_type": "code",
   "execution_count": null,
   "metadata": {},
   "outputs": [],
   "source": [
    "pokemon_df.info()"
   ]
  },
  {
   "cell_type": "code",
   "execution_count": null,
   "metadata": {},
   "outputs": [],
   "source": [
    "pokemon_df.describe(include='all')"
   ]
  },
  {
   "cell_type": "code",
   "execution_count": null,
   "metadata": {},
   "outputs": [],
   "source": [
    "sns.pairplot(pokemon_df)"
   ]
  },
  {
   "attachments": {},
   "cell_type": "markdown",
   "metadata": {},
   "source": [
    "##### **Hipotesis**"
   ]
  },
  {
   "attachments": {},
   "cell_type": "markdown",
   "metadata": {},
   "source": [
    "1. Hipótesis 1: No hay diferencia significativa en la media del HP de los Pokémon de tipo Agua y tipo Fuego.\n",
    "2. Hipótesis 2: La distribución del Ataque entre los tipos de Pokémon es independiente.\n",
    "3. Hipótesis 3: No hay diferencia significativa en la media de Defensa entre los tipos de Pokémon principales.\n",
    "4. Hipótesis 4: La distribución de las estadísticas de Ataque de todos los Pokémon sigue una distribución normal.\n",
    "5. Hipótesis 5: No hay diferencia significativa en las medias de Ataque y Defensa de los Pokémon.\n",
    "6. Hipótesis 6: Los Pokémon de tipo Dragón tienen un Ataque promedio significativamente mayor que el Ataque promedio de todos los Pokémon.\n",
    "7. Hipótesis 7: Los Pokémon con la habilidad \"Intimidate\" tienen un promedio de Defensa significativamente mayor que el promedio de Defensa de todos los Pokémon.\n",
    "8. Hipótesis 8: La media de las estadísticas totales (suma de HP, Ataque, Defensa, Ataque Especial, Defensa Especial y Velocidad) varía significativamente entre las diferentes generaciones de Pokémon.\n",
    "9. Hipótesis 9: Los Pokémon de tipo Roca tienen una medida similar al IMC promedio significativamente mayor que los Pokémon de tipo Volador.\n",
    "10. Hipótesis 10: Existe una correlación positiva entre el Ataque y la Velocidad de los Pokémon.\n",
    "11. Hipótesis 11: La distribución del Ataque de los Pokémon legendarios es diferente a la de los Pokémon no legendarios.\n",
    "12. Hipótesis 12: La media de las estadísticas de Velocidad varía significativamente entre los Pokémon de diferentes tipos primarios.\n",
    "13. Hipótesis 13: La media de Ataque de los Pokémon ha ido aumentando a lo largo de las generaciones.\n",
    "14. Hipótesis 14: Existe una relación entre el Ataque, la Defensa y el HP de los Pokémon, y esta relación varía según si el Pokémon es legendario o no.\n",
    "15. Hipótesis 15: La distribución de la Velocidad de los Pokémon varía según su habilidad oculta."
   ]
  },
  {
   "attachments": {},
   "cell_type": "markdown",
   "metadata": {},
   "source": [
    "##### Hipotesis 1:"
   ]
  },
  {
   "attachments": {},
   "cell_type": "markdown",
   "metadata": {},
   "source": [
    "Para probar esta hipótesis utilizando una prueba T de Student"
   ]
  },
  {
   "cell_type": "code",
   "execution_count": null,
   "metadata": {},
   "outputs": [],
   "source": [
    "# Filtrar el DataFrame para obtener Pokémon de tipo Agua y tipo Fuego\n",
    "water_pokemon = pokemon_df[pokemon_df[\"types\"].str.contains(\"water\", case=False)]\n",
    "fire_pokemon = pokemon_df[pokemon_df[\"types\"].str.contains(\"fire\", case=False)]\n",
    "\n",
    "# Calcular la media y la varianza de ambas muestras\n",
    "water_hp_mean = np.mean(water_pokemon[\"hp\"])\n",
    "water_hp_var = np.var(water_pokemon[\"hp\"], ddof=1)\n",
    "fire_hp_mean = np.mean(fire_pokemon[\"hp\"])\n",
    "fire_hp_var = np.var(fire_pokemon[\"hp\"], ddof=1)\n",
    "\n",
    "print(\"Media de HP de Pokémon de tipo Agua:\", water_hp_mean)\n",
    "print(\"Varianza de HP de Pokémon de tipo Agua:\", water_hp_var)\n",
    "print(\"Media de HP de Pokémon de tipo Fuego:\", fire_hp_mean)\n",
    "print(\"Varianza de HP de Pokémon de tipo Fuego:\", fire_hp_var)\n",
    "\n",
    "# Realizar la prueba T de Student\n",
    "t_statistic, p_value = stats.ttest_ind_from_stats(\n",
    "    water_hp_mean, np.sqrt(water_hp_var), len(water_pokemon),\n",
    "    fire_hp_mean, np.sqrt(fire_hp_var), len(fire_pokemon),\n",
    "    equal_var=False\n",
    ")\n",
    "\n",
    "print(\"Estadístico t:\", t_statistic)\n",
    "print(\"Valor p:\", p_value)\n",
    "\n",
    "alpha = 0.05\n",
    "if p_value < alpha:\n",
    "    print(f\"\"\"Rechazamos la hipótesis nula. \n",
    "    y podemos concluir que hay una diferencia significativa \n",
    "    en la media del HP de los Pokémon de tipo Agua y tipo Fuego.\"\"\")\n",
    "else:\n",
    "    print(\"No podemos rechazar la hipótesis nula.\")\n"
   ]
  },
  {
   "attachments": {},
   "cell_type": "markdown",
   "metadata": {},
   "source": [
    "##### Hipotesis 2:"
   ]
  },
  {
   "attachments": {},
   "cell_type": "markdown",
   "metadata": {},
   "source": [
    "Para probar esta hipótesis utilizando la prueba de chi-cuadrado de independencia"
   ]
  },
  {
   "cell_type": "code",
   "execution_count": null,
   "metadata": {},
   "outputs": [],
   "source": [
    "from scipy.stats import chi2_contingency\n",
    "\n",
    "# Obtener todos los tipos de Pokémon\n",
    "all_types = set()\n",
    "for index, row in pokemon_df.iterrows():\n",
    "    types = row[\"types\"].split(\", \")\n",
    "    all_types.update(types)\n",
    "\n",
    "# Crear una tabla de contingencia vacía\n",
    "contingency_table = pd.DataFrame(index=all_types, columns=[\"low_attack\", \"medium_attack\", \"high_attack\"])\n",
    "\n",
    "# Definir los límites de las categorías de Ataque\n",
    "low_attack_limit = 60\n",
    "high_attack_limit = 120\n",
    "\n",
    "# Rellenar la tabla de contingencia con la distribución de las estadísticas de Ataque\n",
    "for poke_type in all_types:\n",
    "    type_df = pokemon_df[pokemon_df[\"types\"].str.contains(poke_type, case=False)]\n",
    "    \n",
    "    low_attack_count = len(type_df[type_df[\"attack\"] < low_attack_limit])\n",
    "    medium_attack_count = len(type_df[(type_df[\"attack\"] >= low_attack_limit) & (type_df[\"attack\"] < high_attack_limit)])\n",
    "    high_attack_count = len(type_df[type_df[\"attack\"] >= high_attack_limit])\n",
    "    \n",
    "    contingency_table.loc[poke_type] = [low_attack_count, medium_attack_count, high_attack_count]\n",
    "\n",
    "# Realizar la prueba de chi-cuadrado de independencia\n",
    "chi2_stat, p_value, dof, expected_freq = chi2_contingency(contingency_table)\n",
    "\n",
    "print(\"Estadístico chi-cuadrado:\", chi2_stat)\n",
    "print(\"Valor p:\", p_value)\n",
    "print(\"Grados de libertad:\", dof)\n",
    "\n",
    "alpha = 0.05\n",
    "if p_value < alpha:\n",
    "    print(f\"\"\"Rechazamos la hipótesis nula.\n",
    "     y concluir que la distribución del \n",
    "     Ataque no es independiente de los tipos de Pokémon\"\"\")\n",
    "else:\n",
    "    print(\"No podemos rechazar la hipótesis nula.\")\n"
   ]
  },
  {
   "attachments": {},
   "cell_type": "markdown",
   "metadata": {},
   "source": [
    "Los grados de libertad (abreviado como \"dof\" o \"df\" en inglés) son un concepto estadístico que se refiere a la cantidad de valores en un cálculo que tienen la libertad de variar. Los grados de libertad son importantes para determinar la distribución muestral de una estadística y, por lo tanto, para realizar pruebas de hipótesis e intervalos de confianza."
   ]
  },
  {
   "attachments": {},
   "cell_type": "markdown",
   "metadata": {},
   "source": [
    "> grados de libertad = (número de filas - 1) * (número de columnas - 1)"
   ]
  },
  {
   "attachments": {},
   "cell_type": "markdown",
   "metadata": {},
   "source": [
    "##### Hipotesis 3:"
   ]
  },
  {
   "attachments": {},
   "cell_type": "markdown",
   "metadata": {},
   "source": [
    "Para probar esta hipótesis utilizando ANOVA, primero necesitarás agrupar los Pokémon por su tipo principal (el primer tipo enumerado en la columna \"types\") y luego comparar las medias de Defensa entre estos grupos."
   ]
  },
  {
   "cell_type": "code",
   "execution_count": null,
   "metadata": {},
   "outputs": [],
   "source": [
    "from scipy.stats import f_oneway\n",
    "\n",
    "# Crear una columna con el tipo principal de cada Pokémon\n",
    "pokemon_df[\"main_type\"] = pokemon_df[\"types\"].apply(lambda x: x.split(\", \")[0])\n",
    "\n",
    "# Obtener todos los tipos principales\n",
    "main_types = pokemon_df[\"main_type\"].unique()\n",
    "\n",
    "# Preparar los datos de Defensa para cada tipo principal\n",
    "defense_data = []\n",
    "for main_type in main_types:\n",
    "    type_df = pokemon_df[pokemon_df[\"main_type\"] == main_type]\n",
    "    defense_data.append(type_df[\"defense\"].values)\n",
    "\n",
    "# Realizar el análisis de varianza (ANOVA) de un solo factor\n",
    "f_statistic, p_value = f_oneway(*defense_data)\n",
    "\n",
    "print(\"Estadístico F:\", f_statistic)\n",
    "print(\"Valor p:\", p_value)\n",
    "\n",
    "alpha = 0.05\n",
    "if p_value < alpha:\n",
    "    print(f\"\"\"Rechazamos la hipótesis nula.\n",
    "     y concluir que hay una diferencia significativa \n",
    "     en la media de Defensa entre los tipos de Pokémon principales\"\"\")\n",
    "else:\n",
    "    print(\"No podemos rechazar la hipótesis nula.\")\n"
   ]
  },
  {
   "attachments": {},
   "cell_type": "markdown",
   "metadata": {},
   "source": [
    "##### Hipotesis 4:"
   ]
  },
  {
   "attachments": {},
   "cell_type": "markdown",
   "metadata": {},
   "source": [
    "Para probar esta hipótesis utilizando la prueba de Shapiro-Wilk, evaluarás si la distribución de las estadísticas de Ataque de todos los Pokémon se ajusta a una distribución normal."
   ]
  },
  {
   "cell_type": "code",
   "execution_count": null,
   "metadata": {},
   "outputs": [],
   "source": [
    "from scipy.stats import shapiro\n",
    "\n",
    "# Obtener los datos de Ataque de todos los Pokémon\n",
    "attack_data = pokemon_df[\"attack\"].values\n",
    "\n",
    "# Realizar la prueba de Shapiro-Wilk\n",
    "statistic, p_value = shapiro(attack_data)\n",
    "\n",
    "print(\"Estadístico de Shapiro-Wilk:\", statistic)\n",
    "print(\"Valor p:\", p_value)\n",
    "\n",
    "alpha = 0.05\n",
    "if p_value < alpha:\n",
    "    print(f\"\"\"Rechazamos la hipótesis nula.\n",
    "    y concluir que la distribución de las \n",
    "    estadísticas de Ataque de todos los Pokémon \n",
    "    no sigue una distribución normal.\"\"\")\n",
    "else:\n",
    "    print(\"No podemos rechazar la hipótesis nula.\")\n"
   ]
  },
  {
   "attachments": {},
   "cell_type": "markdown",
   "metadata": {},
   "source": [
    "##### Hipotesis 5:"
   ]
  },
  {
   "attachments": {},
   "cell_type": "markdown",
   "metadata": {},
   "source": [
    "Para probar esta hipótesis utilizando la prueba de Wilcoxon Signed-Rank, compararás las estadísticas de Ataque y Defensa de los Pokémon en pares relacionados."
   ]
  },
  {
   "cell_type": "code",
   "execution_count": null,
   "metadata": {},
   "outputs": [],
   "source": [
    "from scipy.stats import wilcoxon\n",
    "\n",
    "# Obtener los datos de Ataque y Defensa de todos los Pokémon\n",
    "attack_data = pokemon_df[\"attack\"].values\n",
    "defense_data = pokemon_df[\"defense\"].values\n",
    "\n",
    "# Realizar la prueba de Wilcoxon Signed-Rank\n",
    "statistic, p_value = wilcoxon(attack_data, defense_data)\n",
    "\n",
    "print(\"Estadístico de Wilcoxon Signed-Rank:\", statistic)\n",
    "print(\"Valor p:\", p_value)\n",
    "\n",
    "alpha = 0.05\n",
    "if p_value < alpha:\n",
    "    print(\"\"\"Rechazamos la hipótesis nula. \n",
    "    y concluir que hay una diferencia significativa \n",
    "    en las medias de Ataque y Defensa de los Pokémon.\"\"\")\n",
    "else:\n",
    "    print(\"No podemos rechazar la hipótesis nula.\")\n"
   ]
  },
  {
   "attachments": {},
   "cell_type": "markdown",
   "metadata": {},
   "source": [
    "##### Hipotesis 6:"
   ]
  },
  {
   "attachments": {},
   "cell_type": "markdown",
   "metadata": {},
   "source": [
    "Para probar esta hipótesis, utilizaremos una prueba T de Student para muestras independientes para comparar las medias de Ataque de los Pokémon de tipo Dragón y todos los Pokémon."
   ]
  },
  {
   "cell_type": "code",
   "execution_count": null,
   "metadata": {},
   "outputs": [],
   "source": [
    "from scipy.stats import ttest_ind\n",
    "\n",
    "# Obtener los datos de Ataque de todos los Pokémon\n",
    "all_pokemon_attack = pokemon_df[\"attack\"].values\n",
    "\n",
    "# Filtrar los Pokémon de tipo Dragón\n",
    "dragon_pokemon = pokemon_df[pokemon_df[\"types\"].str.contains(\"Dragon\", case=False)]\n",
    "\n",
    "# Obtener los datos de Ataque de los Pokémon de tipo Dragón\n",
    "dragon_pokemon_attack = dragon_pokemon[\"attack\"].values\n",
    "\n",
    "# Realizar la prueba T de Student para muestras independientes\n",
    "statistic, p_value = ttest_ind(dragon_pokemon_attack, all_pokemon_attack)\n",
    "\n",
    "print(\"Estadístico T:\", statistic)\n",
    "print(\"Valor p:\", p_value)\n",
    "\n",
    "alpha = 0.05\n",
    "if p_value < alpha:\n",
    "    print(\"\"\"Rechazamos la hipótesis nula. \n",
    "    y concluir que hay una diferencia significativa \n",
    "    en las medias de Ataque de los Pokémon de tipo \n",
    "    Dragón y todos los Pokémon, con los Pokémon de tipo \n",
    "    Dragón teniendo un Ataque promedio mayor.\"\"\")\n",
    "else:\n",
    "    print(\"No podemos rechazar la hipótesis nula.\")\n"
   ]
  },
  {
   "attachments": {},
   "cell_type": "markdown",
   "metadata": {},
   "source": [
    "##### Hipotesis 7:"
   ]
  },
  {
   "attachments": {},
   "cell_type": "markdown",
   "metadata": {},
   "source": [
    "Para probar esta hipótesis, utilizaremos una prueba T de Student para muestras independientes para comparar las medias de Defensa de los Pokémon con la habilidad \"Intimidate\" y todos los Pokémon."
   ]
  },
  {
   "cell_type": "code",
   "execution_count": null,
   "metadata": {},
   "outputs": [],
   "source": [
    "from scipy.stats import ttest_ind\n",
    "\n",
    "# Obtener los datos de Defensa de todos los Pokémon\n",
    "all_pokemon_defense = pokemon_df[\"defense\"].values\n",
    "\n",
    "# Filtrar los Pokémon con la habilidad \"Intimidate\"\n",
    "intimidate_pokemon = pokemon_df[pokemon_df[\"abilities\"].str.contains(\"Intimidate\", case=False)]\n",
    "\n",
    "# Obtener los datos de Defensa de los Pokémon con la habilidad \"Intimidate\"\n",
    "intimidate_pokemon_defense = intimidate_pokemon[\"defense\"].values\n",
    "\n",
    "# Realizar la prueba T de Student para muestras independientes\n",
    "statistic, p_value = ttest_ind(intimidate_pokemon_defense, all_pokemon_defense)\n",
    "\n",
    "print(\"Estadístico T:\", statistic)\n",
    "print(\"Valor p:\", p_value)\n",
    "\n",
    "alpha = 0.05\n",
    "if p_value < alpha:\n",
    "    print(\"\"\"Rechazamos la hipótesis nula.\n",
    "    y concluir que hay una diferencia significativa \n",
    "    en las medias de Defensa de los Pokémon con la \n",
    "    habilidad \"Intimidate\" y todos los Pokémon, con los \n",
    "    Pokémon con la habilidad \"Intimidate\" teniendo un \n",
    "    promedio de Defensa mayor\"\"\")\n",
    "else:\n",
    "    print(\"No podemos rechazar la hipótesis nula.\")\n"
   ]
  },
  {
   "attachments": {},
   "cell_type": "markdown",
   "metadata": {},
   "source": [
    "##### Hipotesis 8:"
   ]
  },
  {
   "attachments": {},
   "cell_type": "markdown",
   "metadata": {},
   "source": [
    "Para probar esta hipótesis, utilizaremos ANOVA (Análisis de Varianza) para comparar las medias de las estadísticas totales de los Pokémon en cada generación."
   ]
  },
  {
   "cell_type": "code",
   "execution_count": null,
   "metadata": {},
   "outputs": [],
   "source": [
    "from scipy.stats import f_oneway\n",
    "\n",
    "# Crear una columna con las estadísticas totales de cada Pokémon\n",
    "pokemon_df[\"total_stats\"] = pokemon_df[\"hp\"] + pokemon_df[\"attack\"] + pokemon_df[\"defense\"] + pokemon_df[\"sp_attack\"] + pokemon_df[\"sp_defense\"] + pokemon_df[\"speed\"]\n",
    "\n",
    "# Obtener todas las generaciones\n",
    "generations = pokemon_df[\"generation\"].unique()\n",
    "\n",
    "# Preparar los datos de las estadísticas totales para cada generación\n",
    "total_stats_data = []\n",
    "for generation in generations:\n",
    "    generation_df = pokemon_df[pokemon_df[\"generation\"] == generation]\n",
    "    total_stats_data.append(generation_df[\"total_stats\"].values)\n",
    "\n",
    "# Realizar el análisis de varianza (ANOVA) de un solo factor\n",
    "f_statistic, p_value = f_oneway(*total_stats_data)\n",
    "\n",
    "print(\"Estadístico F:\", f_statistic)\n",
    "print(\"Valor p:\", p_value)\n",
    "\n",
    "alpha = 0.05\n",
    "if p_value < alpha:\n",
    "    print(\"\"\"Rechazamos la hipótesis nula.\n",
    "    y concluir que hay una diferencia significativa \n",
    "    en las medias de las estadísticas totales entre \n",
    "    las diferentes generaciones de Pokémon.\"\"\")\n",
    "else:\n",
    "    print(\"No podemos rechazar la hipótesis nula.\")\n"
   ]
  },
  {
   "attachments": {},
   "cell_type": "markdown",
   "metadata": {},
   "source": [
    "Si se enccuentra una diferencia significativa, se puede realizar análisis post-hoc (como la prueba de Tukey HSD) para identificar qué generaciones tienen diferencias significativas en las medias de las estadísticas totales y determinar cuál es la generación más fuerte o más débil en términos de estadísticas totales promedio."
   ]
  },
  {
   "attachments": {},
   "cell_type": "markdown",
   "metadata": {},
   "source": [
    "##### Hipotesis 9:"
   ]
  },
  {
   "attachments": {},
   "cell_type": "markdown",
   "metadata": {},
   "source": [
    "Para probar esta hipótesis, utilizaremos una prueba T de Student para muestras independientes para comparar las medias de la medida similar al IMC de los Pokémon de tipo Roca y tipo Volador."
   ]
  },
  {
   "cell_type": "code",
   "execution_count": null,
   "metadata": {},
   "outputs": [],
   "source": [
    "from scipy.stats import ttest_ind\n",
    "\n",
    "# Filtrar los Pokémon de tipo Roca\n",
    "rock_pokemon = pokemon_df[pokemon_df[\"types\"].str.contains(\"Rock\", case=False)]\n",
    "\n",
    "# Obtener los datos de la medida similar al IMC de los Pokémon de tipo Roca\n",
    "rock_pokemon_imc = rock_pokemon[\"pokemon_imc\"].values\n",
    "\n",
    "# Filtrar los Pokémon de tipo Volador\n",
    "flying_pokemon = pokemon_df[pokemon_df[\"types\"].str.contains(\"Flying\", case=False)]\n",
    "\n",
    "# Obtener los datos de la medida similar al IMC de los Pokémon de tipo Volador\n",
    "flying_pokemon_imc = flying_pokemon[\"pokemon_imc\"].values\n",
    "\n",
    "# Realizar la prueba T de Student para muestras independientes\n",
    "statistic, p_value = ttest_ind(rock_pokemon_imc, flying_pokemon_imc)\n",
    "\n",
    "print(\"Estadístico T:\", statistic)\n",
    "print(\"Valor p:\", p_value)\n",
    "\n",
    "alpha = 0.05\n",
    "if p_value < alpha:\n",
    "    print(\"\"\"Rechazamos la hipótesis nula.\n",
    "    y concluir que hay una diferencia significativa \n",
    "    en las medias de la medida similar al IMC entre \n",
    "    los Pokémon de tipo Roca y tipo Volador, con los \n",
    "    Pokémon de tipo Roca teniendo una medida similar al \n",
    "    IMC promedio mayor. \"\"\")\n",
    "else:\n",
    "    print(\"No podemos rechazar la hipótesis nula.\")\n"
   ]
  },
  {
   "attachments": {},
   "cell_type": "markdown",
   "metadata": {},
   "source": [
    "##### Hipotesis 10:"
   ]
  },
  {
   "attachments": {},
   "cell_type": "markdown",
   "metadata": {},
   "source": [
    "Para explorar visualmente esta hipótesis, podemos crear un gráfico de dispersión usando seaborn que muestre la relación entre el Ataque y la Velocidad de los Pokémon"
   ]
  },
  {
   "cell_type": "code",
   "execution_count": null,
   "metadata": {},
   "outputs": [],
   "source": [
    "# Crear el gráfico de dispersión usando seaborn\n",
    "sns.scatterplot(data=pokemon_df, x=\"attack\", y=\"speed\")\n",
    "\n",
    "# Establecer títulos y etiquetas\n",
    "plt.title(\"Relación entre Ataque y Velocidad de los Pokémon\")\n",
    "plt.xlabel(\"Ataque\")\n",
    "plt.ylabel(\"Velocidad\")\n",
    "\n",
    "# Mostrar el gráfico\n",
    "plt.show()\n"
   ]
  },
  {
   "attachments": {},
   "cell_type": "markdown",
   "metadata": {},
   "source": [
    "##### Hipotesis 11:"
   ]
  },
  {
   "cell_type": "markdown",
   "metadata": {},
   "source": [
    "Para explorar visualmente esta hipótesis, podemos crear un gráfico de cajas (box plot) usando seaborn que muestre la distribución del Ataque para los Pokémon legendarios y no legendarios"
   ]
  },
  {
   "cell_type": "code",
   "execution_count": null,
   "metadata": {},
   "outputs": [],
   "source": [
    "# Crear el gráfico de cajas usando seaborn\n",
    "sns.boxplot(data=pokemon_df, x=\"is_legendary\", y=\"attack\")\n",
    "\n",
    "# Establecer títulos y etiquetas\n",
    "plt.title(\"Distribución del Ataque de Pokémon legendarios y no legendarios\")\n",
    "plt.xlabel(\"Es legendario\")\n",
    "plt.ylabel(\"Ataque\")\n",
    "\n",
    "# Mostrar el gráfico\n",
    "plt.show()\n"
   ]
  },
  {
   "attachments": {},
   "cell_type": "markdown",
   "metadata": {},
   "source": [
    "##### Hipotesis 12:"
   ]
  },
  {
   "attachments": {},
   "cell_type": "markdown",
   "metadata": {},
   "source": [
    "Para explorar visualmente esta hipótesis, podemos crear un gráfico de barras usando seaborn que muestre la media de la Velocidad para cada tipo primario de Pokémon"
   ]
  },
  {
   "cell_type": "code",
   "execution_count": null,
   "metadata": {},
   "outputs": [],
   "source": [
    "# Crear el gráfico de barras usando seaborn\n",
    "sns.barplot(data=pokemon_df, x=\"primary_type\", y=\"speed\", estimator=lambda x: sum(x) / len(x))\n",
    "\n",
    "# Establecer títulos y etiquetas\n",
    "plt.title(\"Media de Velocidad de los Pokémon por Tipo Primario\")\n",
    "plt.xlabel(\"Tipo Primario\")\n",
    "plt.ylabel(\"Velocidad Media\")\n",
    "\n",
    "# Girar las etiquetas del eje x para una mejor visualización\n",
    "plt.xticks(rotation=45)\n",
    "\n",
    "# Mostrar el gráfico\n",
    "plt.show()\n"
   ]
  },
  {
   "attachments": {},
   "cell_type": "markdown",
   "metadata": {},
   "source": [
    "##### Hipotesis 13:"
   ]
  },
  {
   "attachments": {},
   "cell_type": "markdown",
   "metadata": {},
   "source": [
    "Para explorar visualmente esta hipótesis, podemos crear un gráfico lineal usando seaborn que muestre la media de Ataque de los Pokémon en cada generación"
   ]
  },
  {
   "cell_type": "code",
   "execution_count": null,
   "metadata": {},
   "outputs": [],
   "source": [
    "# Calcular la media de Ataque por generación\n",
    "mean_attack_by_generation = pokemon_df.groupby(\"generation\")[\"attack\"].mean().reset_index()\n",
    "\n",
    "# Crear el gráfico lineal usando seaborn\n",
    "sns.lineplot(data=mean_attack_by_generation, x=\"generation\", y=\"attack\")\n",
    "\n",
    "# Establecer títulos y etiquetas\n",
    "plt.title(\"Media de Ataque de los Pokémon por Generación\")\n",
    "plt.xlabel(\"Generación\")\n",
    "plt.ylabel(\"Ataque Medio\")\n",
    "\n",
    "# Mostrar el gráfico\n",
    "plt.show()\n"
   ]
  },
  {
   "attachments": {},
   "cell_type": "markdown",
   "metadata": {},
   "source": [
    "##### Hipotesis 14:"
   ]
  },
  {
   "attachments": {},
   "cell_type": "markdown",
   "metadata": {},
   "source": [
    "Para explorar visualmente esta hipótesis, podemos crear un gráfico de burbujas usando seaborn con relplot que muestre la relación entre el Ataque, la Defensa y el HP de los Pokémon, y cómo se agrupan según si son legendarios o no"
   ]
  },
  {
   "cell_type": "code",
   "execution_count": null,
   "metadata": {},
   "outputs": [],
   "source": [
    "# Crear el gráfico de burbujas usando seaborn con relplot\n",
    "g = sns.relplot(data=pokemon_df, x=\"attack\", y=\"defense\", size=\"hp\", hue=\"is_legendary\", palette=[\"b\", \"r\"], sizes=(20, 200), alpha=.5, aspect=1.5)\n",
    "\n",
    "# Establecer títulos y etiquetas\n",
    "g.fig.suptitle(\"Relación entre Ataque, Defensa y HP de Pokémon, diferenciados por Legendarios\")\n",
    "g.ax.set_xlabel(\"Ataque\")\n",
    "g.ax.set_ylabel(\"Defensa\")\n",
    "\n",
    "# Mostrar el gráfico\n",
    "plt.show()\n"
   ]
  },
  {
   "attachments": {},
   "cell_type": "markdown",
   "metadata": {},
   "source": [
    "##### Hipotesis 15:"
   ]
  },
  {
   "cell_type": "markdown",
   "metadata": {},
   "source": [
    "Para explorar visualmente esta hipótesis, podemos crear un gráfico de violín usando seaborn que muestre la distribución de la Velocidad de los Pokémon según su habilidad oculta. Supongamos que queremos analizar las habilidades ocultas más comunes entre los Pokémon"
   ]
  },
  {
   "cell_type": "code",
   "execution_count": null,
   "metadata": {},
   "outputs": [],
   "source": [
    "# Filtrar las habilidades ocultas más comunes (por ejemplo, las 5 más comunes)\n",
    "top_hidden_abilities = pokemon_df[\"hidden_ability\"].value_counts().head(5).index\n",
    "filtered_pokemon_df = pokemon_df[pokemon_df[\"hidden_ability\"].isin(top_hidden_abilities)]\n",
    "\n",
    "# Crear el gráfico de violín usando seaborn\n",
    "sns.violinplot(data=filtered_pokemon_df, x=\"hidden_ability\", y=\"speed\", inner=\"quartile\")\n",
    "\n",
    "# Establecer títulos y etiquetas\n",
    "plt.title(\"Distribución de la Velocidad de los Pokémon por Habilidad Oculta\")\n",
    "plt.xlabel(\"Habilidad Oculta\")\n",
    "plt.ylabel(\"Velocidad\")\n",
    "\n",
    "# Girar las etiquetas del eje x para una mejor visualización\n",
    "plt.xticks(rotation=45)\n",
    "\n",
    "# Mostrar el gráfico\n",
    "plt.show()\n"
   ]
  }
 ],
 "metadata": {
  "language_info": {
   "name": "python"
  },
  "orig_nbformat": 4
 },
 "nbformat": 4,
 "nbformat_minor": 2
}
